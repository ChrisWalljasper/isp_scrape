{
 "cells": [
  {
   "cell_type": "code",
   "execution_count": 1,
   "metadata": {},
   "outputs": [],
   "source": [
    "from bs4 import BeautifulSoup\n",
    "import csv\n",
    "import requests"
   ]
  },
  {
   "cell_type": "code",
   "execution_count": 3,
   "metadata": {},
   "outputs": [],
   "source": [
    "url = 'https://broadbandnow.com/All-Providers'\n",
    "main_page = requests.get(url)"
   ]
  },
  {
   "cell_type": "code",
   "execution_count": 4,
   "metadata": {},
   "outputs": [],
   "source": [
    "soup = BeautifulSoup(main_page.content, 'html.parser')"
   ]
  },
  {
   "cell_type": "code",
   "execution_count": 5,
   "metadata": {},
   "outputs": [],
   "source": [
    "isp_table = soup.find('table')"
   ]
  },
  {
   "cell_type": "code",
   "execution_count": 6,
   "metadata": {},
   "outputs": [
    {
     "name": "stdout",
     "output_type": "stream",
     "text": [
      "<table class=\"table table-hover table-aligned sortable\" data-sort-parent=\"tr\"><thead><tr><th> <button class=\"btn btn-secondary-outline btn-sm btn-filter\" type=\"button\">Provider <i class=\"ico ico-filter\"></i></button></th><th> <button class=\"btn btn-secondary-outline btn-sm btn-filter\" type=\"button\">Population Covered <i class=\"ico ico-filter\"></i></button></th><th> <button class=\"btn btn-secondary-outline btn-sm btn-filter\" type=\"button\">States <i class=\"ico ico-filter\"></i></button></th><th> <button class=\"btn btn-secondary-outline btn-sm btn-filter\" type=\"button\">Max Speed <i class=\"ico ico-filter\"></i></button></th></tr></thead><tbody><tr><td><a href=\"/HughesNet\">HughesNet</a></td><td class=\"text-right\" data-value=\"308745538\">308,745,538</td><td class=\"text-right\">51</td><td class=\"text-right\"></td></tr><tr><td><a href=\"/Exede-Internet\">Exede Internet</a></td><td class=\"text-right\" data-value=\"308417221\">308,417,221</td><td class=\"text-right\">51</td><td class=\"text-right\"></td></tr><tr><td><a href=\"/ATT-Wireless\">AT&amp;T Wireless</a></td><td class=\"text-right\" data-value=\"306461488\">306,461,488</td><td class=\"text-right\">53</td><td class=\"text-right\">100+ mbps</td></tr><tr><td><a href=\"/Verizon-Wireless\">Verizon Wireless</a></td><td class=\"text-right\" data-value=\"305032264\">305,032,264</td><td class=\"text-right\">51</td><td class=\"text-right\">100+ mbps</td></tr><tr><td><a href=\"/Sprint\">Sprint</a></td><td class=\"text-right\" data-value=\"279984122\">279,984,122</td><td class=\"text-right\">51</td><td class=\"text-right\">100+ mbps</td></tr><tr><td><a href=\"/T-Mobile\">T-Mobile</a></td><td class=\"text-right\" data-value=\"246589444\">246,589,444</td><td class=\"text-right\">46</td><td class=\"text-right\">100+ mbps</td></tr><tr><td><a href=\"/ATT\">AT&amp;T Internet</a></td><td class=\"text-right\" data-value=\"119880643\">119,880,643</td><td class=\"text-right\">21</td><td class=\"text-right\"></td></tr><tr><td><a href=\"/XFINITY\">XFINITY from Comcast</a></td><td class=\"text-right\" data-value=\"111218631\">111,218,631</td><td class=\"text-right\">40</td><td class=\"text-right\"></td></tr><tr><td><a href=\"/Charter-Communications\">Charter Spectrum</a></td><td class=\"text-right\" data-value=\"101452808\">101,452,808</td><td class=\"text-right\">43</td><td class=\"text-right\"></td></tr><tr><td><a href=\"/Cricket-Wireless\">Cricket Wireless</a></td><td class=\"text-right\" data-value=\"94688250\">94,688,250</td><td class=\"text-right\">37</td><td class=\"text-right\">6.0+ mbps</td></tr><tr><td><a href=\"/MetroPCS\">MetroPCS</a></td><td class=\"text-right\" data-value=\"54308583\">54,308,583</td><td class=\"text-right\">5</td><td class=\"text-right\"></td></tr><tr><td><a href=\"/CenturyLink\">CenturyLink</a></td><td class=\"text-right\" data-value=\"48437525\">48,437,525</td><td class=\"text-right\">39</td><td class=\"text-right\"></td></tr><tr><td><a href=\"/Verizon-High-Speed-Internet\">Verizon High Speed Internet</a></td><td class=\"text-right\" data-value=\"47654734\">47,654,734</td><td class=\"text-right\">11</td><td class=\"text-right\"></td></tr><tr><td><a href=\"/Verizon-Fios\">Verizon Fios</a></td><td class=\"text-right\" data-value=\"33530459\">33,530,459</td><td class=\"text-right\">10</td><td class=\"text-right\"></td></tr><tr><td><a href=\"/Frontier-Communications\">Frontier Communications</a></td><td class=\"text-right\" data-value=\"29981654\">29,981,654</td><td class=\"text-right\">38</td><td class=\"text-right\"></td></tr><tr><td><a href=\"/Rise-Broadband\">Rise Broadband</a></td><td class=\"text-right\" data-value=\"25719363\">25,719,363</td><td class=\"text-right\">19</td><td class=\"text-right\"></td></tr><tr><td><a href=\"/US-Cellular\">U.S. Cellular</a></td><td class=\"text-right\" data-value=\"25083868\">25,083,868</td><td class=\"text-right\">19</td><td class=\"text-right\">6.0+ mbps</td></tr><tr><td><a href=\"/Cox-Communications\">Cox Communications</a></td><td class=\"text-right\" data-value=\"20881180\">20,881,180</td><td class=\"text-right\">19</td><td class=\"text-right\"></td></tr><tr><td><a href=\"/Crown-Castle-Fiber\">Crown Castle Fiber</a></td><td class=\"text-right\" data-value=\"19057424\">19,057,424</td><td class=\"text-right\">24</td><td class=\"text-right\"></td></tr><tr><td><a href=\"/Skyriver-Communications\">Skyriver Communications</a></td><td class=\"text-right\" data-value=\"18920142\">18,920,142</td><td class=\"text-right\">1</td><td class=\"text-right\"></td></tr><tr><td><a href=\"/X2nSat\">X2nSat</a></td><td class=\"text-right\" data-value=\"16112799\">16,112,799</td><td class=\"text-right\">7</td><td class=\"text-right\"></td></tr><tr><td><a href=\"/Windstream\">Windstream</a></td><td class=\"text-right\" data-value=\"15233640\">15,233,640</td><td class=\"text-right\">50</td><td class=\"text-right\"></td></tr><tr><td><a href=\"/Optimum-by-Cablevision\">Optimum by Cablevision</a></td><td class=\"text-right\" data-value=\"12558572\">12,558,572</td><td class=\"text-right\">4</td><td class=\"text-right\"></td></tr><tr><td><a href=\"/GHz-Wireless\">GHz Wireless</a></td><td class=\"text-right\" data-value=\"9699124\">9,699,124</td><td class=\"text-right\">1</td><td class=\"text-right\"></td></tr><tr><td><a href=\"/King-Street-Wireless\">King Street Wireless</a></td><td class=\"text-right\" data-value=\"9603129\">9,603,129</td><td class=\"text-right\">29</td><td class=\"text-right\"></td></tr><tr><td><a href=\"/Monmouth-Telephone-Telegraph\">Monmouth Telephone &amp; Telegraph</a></td><td class=\"text-right\" data-value=\"8569186\">8,569,186</td><td class=\"text-right\">1</td><td class=\"text-right\"></td></tr><tr><td><a href=\"/WOW!\">WOW!</a></td><td class=\"text-right\" data-value=\"7174627\">7,174,627</td><td class=\"text-right\">9</td><td class=\"text-right\"></td></tr><tr><td><a href=\"/CyberNet-Communications\">CyberNet Communications</a></td><td class=\"text-right\" data-value=\"6972035\">6,972,035</td><td class=\"text-right\">1</td><td class=\"text-right\">6.0+ mbps</td></tr><tr><td><a href=\"/Suddenlink-Communications\">Suddenlink Communications</a></td><td class=\"text-right\" data-value=\"6544223\">6,544,223</td><td class=\"text-right\">18</td><td class=\"text-right\"></td></tr><tr><td><a href=\"/Mediacom-Cable\">Mediacom Cable</a></td><td class=\"text-right\" data-value=\"6368603\">6,368,603</td><td class=\"text-right\">21</td><td class=\"text-right\"></td></tr><tr><td><a href=\"/BelWave-Communications\">BelWave Communications</a></td><td class=\"text-right\" data-value=\"6301425\">6,301,425</td><td class=\"text-right\">1</td><td class=\"text-right\"></td></tr><tr><td><a href=\"/Etheric-Networks\">Etheric Networks</a></td><td class=\"text-right\" data-value=\"5852582\">5,852,582</td><td class=\"text-right\">1</td><td class=\"text-right\"></td></tr><tr><td><a href=\"/Startouch\">Startouch</a></td><td class=\"text-right\" data-value=\"5698490\">5,698,490</td><td class=\"text-right\">3</td><td class=\"text-right\"></td></tr><tr><td><a href=\"/TDS-Telecom\">TDS Telecom</a></td><td class=\"text-right\" data-value=\"5082035\">5,082,035</td><td class=\"text-right\">26</td><td class=\"text-right\"></td></tr><tr><td><a href=\"/Florida-High-Speed-Internet\">Florida High Speed Internet</a></td><td class=\"text-right\" data-value=\"4979682\">4,979,682</td><td class=\"text-right\">1</td><td class=\"text-right\"></td></tr><tr><td><a href=\"/Consolidated-Communications\">Consolidated Communications</a></td><td class=\"text-right\" data-value=\"4577039\">4,577,039</td><td class=\"text-right\">24</td><td class=\"text-right\"></td></tr><tr><td><a href=\"/Level-3-Communications\">Level 3 Communications</a></td><td class=\"text-right\" data-value=\"4528195\">4,528,195</td><td class=\"text-right\">51</td><td class=\"text-right\"></td></tr><tr><td><a href=\"/C-Spire-Wireless\">C Spire Wireless</a></td><td class=\"text-right\" data-value=\"3993826\">3,993,826</td><td class=\"text-right\">2</td><td class=\"text-right\">0.7+ mbps</td></tr><tr><td><a href=\"/RCN\">RCN</a></td><td class=\"text-right\" data-value=\"3933153\">3,933,153</td><td class=\"text-right\">7</td><td class=\"text-right\"></td></tr><tr><td><a href=\"/Everywhere-Wireless\">Everywhere Wireless</a></td><td class=\"text-right\" data-value=\"3916796\">3,916,796</td><td class=\"text-right\">1</td><td class=\"text-right\"></td></tr><tr><td><a href=\"/Wi-Power\">Wi-Power</a></td><td class=\"text-right\" data-value=\"3711578\">3,711,578</td><td class=\"text-right\">5</td><td class=\"text-right\"></td></tr><tr><td><a href=\"/UnWired-Broadband\">UnWired Broadband</a></td><td class=\"text-right\" data-value=\"3668275\">3,668,275</td><td class=\"text-right\">1</td><td class=\"text-right\"></td></tr><tr><td><a href=\"/Pixius-Communications\">Pixius Communications</a></td><td class=\"text-right\" data-value=\"3327534\">3,327,534</td><td class=\"text-right\">2</td><td class=\"text-right\">100+ mbps</td></tr><tr><td><a href=\"/Ranch-Wireless\">Ranch Wireless</a></td><td class=\"text-right\" data-value=\"3294333\">3,294,333</td><td class=\"text-right\">1</td><td class=\"text-right\"></td></tr><tr><td><a href=\"/Cable-ONE\">Cable ONE</a></td><td class=\"text-right\" data-value=\"3230074\">3,230,074</td><td class=\"text-right\">19</td><td class=\"text-right\"></td></tr><tr><td><a href=\"/NextLink-Broadband\">NextLink</a></td><td class=\"text-right\" data-value=\"3033950\">3,033,950</td><td class=\"text-right\">1</td><td class=\"text-right\"></td></tr><tr><td><a href=\"/BarrierFree\">BarrierFree</a></td><td class=\"text-right\" data-value=\"3030290\">3,030,290</td><td class=\"text-right\">1</td><td class=\"text-right\"></td></tr><tr><td><a href=\"/Cruzio-Internet\">Cruzio Internet</a></td><td class=\"text-right\" data-value=\"3024653\">3,024,653</td><td class=\"text-right\">1</td><td class=\"text-right\"></td></tr><tr><td><a href=\"/Wydebeam-Broadband\">Wydebeam Broadband</a></td><td class=\"text-right\" data-value=\"3023649\">3,023,649</td><td class=\"text-right\">1</td><td class=\"text-right\"></td></tr><tr><td><a href=\"/E-Vergent-Wireless\">E-Vergent Wireless</a></td><td class=\"text-right\" data-value=\"3012904\">3,012,904</td><td class=\"text-right\">3</td><td class=\"text-right\"></td></tr><tr><td><a href=\"/WATCH-Communications\">WATCH Communications</a></td><td class=\"text-right\" data-value=\"2982272\">2,982,272</td><td class=\"text-right\">3</td><td class=\"text-right\"></td></tr><tr><td><a href=\"/Zing-Wireless\">Zing Wireless</a></td><td class=\"text-right\" data-value=\"2924980\">2,924,980</td><td class=\"text-right\">1</td><td class=\"text-right\">6.0+ mbps</td></tr><tr><td><a href=\"/Sonicnet-CA\">Sonic.net</a></td><td class=\"text-right\" data-value=\"2922667\">2,922,667</td><td class=\"text-right\">1</td><td class=\"text-right\"></td></tr><tr><td><a href=\"/Unite-Private-Networks\">Unite Private Networks</a></td><td class=\"text-right\" data-value=\"2886966\">2,886,966</td><td class=\"text-right\">19</td><td class=\"text-right\"></td></tr><tr><td><a href=\"/TierOne-Networks\">TierOne Networks</a></td><td class=\"text-right\" data-value=\"2827432\">2,827,432</td><td class=\"text-right\">1</td><td class=\"text-right\">0.7+ mbps</td></tr><tr><td><a href=\"/MHO-Networks\">MHO Networks</a></td><td class=\"text-right\" data-value=\"2742849\">2,742,849</td><td class=\"text-right\">1</td><td class=\"text-right\">100+ mbps</td></tr><tr><td><a href=\"/Metro-Wireless\">Metro Wireless</a></td><td class=\"text-right\" data-value=\"2738423\">2,738,423</td><td class=\"text-right\">1</td><td class=\"text-right\"></td></tr><tr><td><a href=\"/Nextera\">Nextera Communications</a></td><td class=\"text-right\" data-value=\"2589030\">2,589,030</td><td class=\"text-right\">2</td><td class=\"text-right\">6.0+ mbps</td></tr><tr><td><a href=\"/Wifi-West\">Wifi West</a></td><td class=\"text-right\" data-value=\"2411052\">2,411,052</td><td class=\"text-right\">1</td><td class=\"text-right\">0.7+ mbps</td></tr><tr><td><a href=\"/MegaPath\">MegaPath</a></td><td class=\"text-right\" data-value=\"2290751\">2,290,751</td><td class=\"text-right\">37</td><td class=\"text-right\"></td></tr><tr><td><a href=\"/LTD-Broadband\">LTD Broadband</a></td><td class=\"text-right\" data-value=\"2277863\">2,277,863</td><td class=\"text-right\">4</td><td class=\"text-right\"></td></tr><tr><td><a href=\"/Freewire-Broadband\">Freewire Broadband</a></td><td class=\"text-right\" data-value=\"2136190\">2,136,190</td><td class=\"text-right\">2</td><td class=\"text-right\"></td></tr><tr><td><a href=\"/Agile-Networks\">Agile Networks</a></td><td class=\"text-right\" data-value=\"2129874\">2,129,874</td><td class=\"text-right\">4</td><td class=\"text-right\">100+ mbps</td></tr><tr><td><a href=\"/DirectLink\">DirectLink</a></td><td class=\"text-right\" data-value=\"2125472\">2,125,472</td><td class=\"text-right\">1</td><td class=\"text-right\"></td></tr><tr><td><a href=\"/PenTeleData\">PenTeleData</a></td><td class=\"text-right\" data-value=\"2021477\">2,021,477</td><td class=\"text-right\">2</td><td class=\"text-right\"></td></tr><tr><td><a href=\"/Believe-Wireless-Broadband\">Believe Wireless Broadband</a></td><td class=\"text-right\" data-value=\"2016020\">2,016,020</td><td class=\"text-right\">1</td><td class=\"text-right\">100+ mbps</td></tr><tr><td><a href=\"/US-Signal-Company\">US Signal Company</a></td><td class=\"text-right\" data-value=\"2013697\">2,013,697</td><td class=\"text-right\">9</td><td class=\"text-right\"></td></tr><tr><td><a href=\"/Cirra-Networks\">Cirra Networks</a></td><td class=\"text-right\" data-value=\"1918117\">1,918,117</td><td class=\"text-right\">1</td><td class=\"text-right\"></td></tr><tr><td><a href=\"/Wave-Broadband\">Wave Broadband</a></td><td class=\"text-right\" data-value=\"1906007\">1,906,007</td><td class=\"text-right\">3</td><td class=\"text-right\"></td></tr><tr><td><a href=\"/lvnet\">lv.net</a></td><td class=\"text-right\" data-value=\"1878128\">1,878,128</td><td class=\"text-right\">1</td><td class=\"text-right\">0.7+ mbps</td></tr><tr><td><a href=\"/Utah-Broadband\">Utah Broadband</a></td><td class=\"text-right\" data-value=\"1865241\">1,865,241</td><td class=\"text-right\">1</td><td class=\"text-right\"></td></tr><tr><td><a href=\"/Brown-Dog-Networks\">Brown Dog Networks</a></td><td class=\"text-right\" data-value=\"1832464\">1,832,464</td><td class=\"text-right\">1</td><td class=\"text-right\">100+ mbps</td></tr><tr><td><a href=\"/ERF-Wireless\">ERF Wireless</a></td><td class=\"text-right\" data-value=\"1815907\">1,815,907</td><td class=\"text-right\">1</td><td class=\"text-right\"></td></tr><tr><td><a href=\"/On-Ramp-Indiana\">On-Ramp Indiana</a></td><td class=\"text-right\" data-value=\"1810926\">1,810,926</td><td class=\"text-right\">1</td><td class=\"text-right\">0.7+ mbps</td></tr><tr><td><a href=\"/Google-Fiber\">Google Fiber</a></td><td class=\"text-right\" data-value=\"1783670\">1,783,670</td><td class=\"text-right\">8</td><td class=\"text-right\"></td></tr><tr><td><a href=\"/Packet-Layer\">Packet Layer</a></td><td class=\"text-right\" data-value=\"1773320\">1,773,320</td><td class=\"text-right\">2</td><td class=\"text-right\"></td></tr><tr><td><a href=\"/airPowered\">airPowered</a></td><td class=\"text-right\" data-value=\"1663719\">1,663,719</td><td class=\"text-right\">1</td><td class=\"text-right\">6.0+ mbps</td></tr><tr><td><a href=\"/Air-Wans-Wireless-Broadband\">Air-Wans Wireless Broadband</a></td><td class=\"text-right\" data-value=\"1640596\">1,640,596</td><td class=\"text-right\">1</td><td class=\"text-right\"></td></tr><tr><td><a href=\"/EasyStreet-Online\">EasyStreet Online</a></td><td class=\"text-right\" data-value=\"1629345\">1,629,345</td><td class=\"text-right\">2</td><td class=\"text-right\"></td></tr><tr><td><a href=\"/Hoosier-Broadband\">Hoosier Broadband</a></td><td class=\"text-right\" data-value=\"1608106\">1,608,106</td><td class=\"text-right\">1</td><td class=\"text-right\"></td></tr><tr><td><a href=\"/Cellcom\">CellCom</a></td><td class=\"text-right\" data-value=\"1607399\">1,607,399</td><td class=\"text-right\">1</td><td class=\"text-right\"></td></tr><tr><td><a href=\"/XO-Communications\">XO Communications</a></td><td class=\"text-right\" data-value=\"1597833\">1,597,833</td><td class=\"text-right\">19</td><td class=\"text-right\"></td></tr><tr><td><a href=\"/Wansecurity-Wireless\">WANSecurity Wireless</a></td><td class=\"text-right\" data-value=\"1597781\">1,597,781</td><td class=\"text-right\">2</td><td class=\"text-right\"></td></tr><tr><td><a href=\"/Southern-California-Telephone-Co\">Southern California Telephone Company</a></td><td class=\"text-right\" data-value=\"1593991\">1,593,991</td><td class=\"text-right\">1</td><td class=\"text-right\"></td></tr><tr><td><a href=\"/Stealth-Communications\">Stealth Communications</a></td><td class=\"text-right\" data-value=\"1585873\">1,585,873</td><td class=\"text-right\">1</td><td class=\"text-right\"></td></tr><tr><td><a href=\"/MetroSpan\">MetroSpan</a></td><td class=\"text-right\" data-value=\"1557914\">1,557,914</td><td class=\"text-right\">2</td><td class=\"text-right\">0.7+ mbps</td></tr><tr><td><a href=\"/Phoenix-Broadband\">Phoenix Broadband</a></td><td class=\"text-right\" data-value=\"1555648\">1,555,648</td><td class=\"text-right\">1</td><td class=\"text-right\">100+ mbps</td></tr><tr><td><a href=\"/AreyouonlineNet\">Areyouonline.Net</a></td><td class=\"text-right\" data-value=\"1538762\">1,538,762</td><td class=\"text-right\">1</td><td class=\"text-right\">100+ mbps</td></tr><tr><td><a href=\"/TruCom\">TruCom</a></td><td class=\"text-right\" data-value=\"1530946\">1,530,946</td><td class=\"text-right\">1</td><td class=\"text-right\"></td></tr><tr><td><a href=\"/Wisper-ISP\">Wisper ISP</a></td><td class=\"text-right\" data-value=\"1498449\">1,498,449</td><td class=\"text-right\">4</td><td class=\"text-right\"></td></tr><tr><td><a href=\"/Mercury-Wireless\">Mercury Wireless</a></td><td class=\"text-right\" data-value=\"1494256\">1,494,256</td><td class=\"text-right\">2</td><td class=\"text-right\"></td></tr><tr><td><a href=\"/Internet-Free-Planet\">Internet Free Planet</a></td><td class=\"text-right\" data-value=\"1483708\">1,483,708</td><td class=\"text-right\">1</td><td class=\"text-right\">100+ mbps</td></tr><tr><td><a href=\"/Aerux-Broadband\">Aerux Broadband</a></td><td class=\"text-right\" data-value=\"1476008\">1,476,008</td><td class=\"text-right\">1</td><td class=\"text-right\">100+ mbps</td></tr><tr><td><a href=\"/ZipLink-Internetcom\">ZipLink Internet.com</a></td><td class=\"text-right\" data-value=\"1464460\">1,464,460</td><td class=\"text-right\">1</td><td class=\"text-right\"></td></tr><tr><td><a href=\"/Internet-Nebraska-Corporation\">Internet Nebraska Corporation</a></td><td class=\"text-right\" data-value=\"1386776\">1,386,776</td><td class=\"text-right\">1</td><td class=\"text-right\"></td></tr><tr><td><a href=\"/Harbor-Communications\">Harbor Communications</a></td><td class=\"text-right\" data-value=\"1371638\">1,371,638</td><td class=\"text-right\">2</td><td class=\"text-right\"></td></tr><tr><td><a href=\"/ProTronics-Technologies\">ProTronics Technologies</a></td><td class=\"text-right\" data-value=\"1370833\">1,370,833</td><td class=\"text-right\">1</td><td class=\"text-right\">6.0+ mbps</td></tr><tr><td><a href=\"/Texas-Wireless-Internet\">Texas Wireless Internet</a></td><td class=\"text-right\" data-value=\"1329342\">1,329,342</td><td class=\"text-right\">1</td><td class=\"text-right\">0.7+ mbps</td></tr><tr><td><a href=\"/RazzoLink\">RazzoLink</a></td><td class=\"text-right\" data-value=\"1314828\">1,314,828</td><td class=\"text-right\">1</td><td class=\"text-right\"></td></tr><tr><td><a href=\"/Rock-Solid-Internet-Telephone\">Rock Solid Internet &amp; Telephone</a></td><td class=\"text-right\" data-value=\"1279768\">1,279,768</td><td class=\"text-right\">1</td><td class=\"text-right\">100+ mbps</td></tr></tbody></table>\n"
     ]
    }
   ],
   "source": [
    "print(isp_table)"
   ]
  },
  {
   "cell_type": "code",
   "execution_count": 7,
   "metadata": {},
   "outputs": [
    {
     "name": "stdout",
     "output_type": "stream",
     "text": [
      "[<tr><th> <button class=\"btn btn-secondary-outline btn-sm btn-filter\" type=\"button\">Provider <i class=\"ico ico-filter\"></i></button></th><th> <button class=\"btn btn-secondary-outline btn-sm btn-filter\" type=\"button\">Population Covered <i class=\"ico ico-filter\"></i></button></th><th> <button class=\"btn btn-secondary-outline btn-sm btn-filter\" type=\"button\">States <i class=\"ico ico-filter\"></i></button></th><th> <button class=\"btn btn-secondary-outline btn-sm btn-filter\" type=\"button\">Max Speed <i class=\"ico ico-filter\"></i></button></th></tr>, <tr><td><a href=\"/HughesNet\">HughesNet</a></td><td class=\"text-right\" data-value=\"308745538\">308,745,538</td><td class=\"text-right\">51</td><td class=\"text-right\"></td></tr>, <tr><td><a href=\"/Exede-Internet\">Exede Internet</a></td><td class=\"text-right\" data-value=\"308417221\">308,417,221</td><td class=\"text-right\">51</td><td class=\"text-right\"></td></tr>, <tr><td><a href=\"/ATT-Wireless\">AT&amp;T Wireless</a></td><td class=\"text-right\" data-value=\"306461488\">306,461,488</td><td class=\"text-right\">53</td><td class=\"text-right\">100+ mbps</td></tr>, <tr><td><a href=\"/Verizon-Wireless\">Verizon Wireless</a></td><td class=\"text-right\" data-value=\"305032264\">305,032,264</td><td class=\"text-right\">51</td><td class=\"text-right\">100+ mbps</td></tr>, <tr><td><a href=\"/Sprint\">Sprint</a></td><td class=\"text-right\" data-value=\"279984122\">279,984,122</td><td class=\"text-right\">51</td><td class=\"text-right\">100+ mbps</td></tr>, <tr><td><a href=\"/T-Mobile\">T-Mobile</a></td><td class=\"text-right\" data-value=\"246589444\">246,589,444</td><td class=\"text-right\">46</td><td class=\"text-right\">100+ mbps</td></tr>, <tr><td><a href=\"/ATT\">AT&amp;T Internet</a></td><td class=\"text-right\" data-value=\"119880643\">119,880,643</td><td class=\"text-right\">21</td><td class=\"text-right\"></td></tr>, <tr><td><a href=\"/XFINITY\">XFINITY from Comcast</a></td><td class=\"text-right\" data-value=\"111218631\">111,218,631</td><td class=\"text-right\">40</td><td class=\"text-right\"></td></tr>, <tr><td><a href=\"/Charter-Communications\">Charter Spectrum</a></td><td class=\"text-right\" data-value=\"101452808\">101,452,808</td><td class=\"text-right\">43</td><td class=\"text-right\"></td></tr>, <tr><td><a href=\"/Cricket-Wireless\">Cricket Wireless</a></td><td class=\"text-right\" data-value=\"94688250\">94,688,250</td><td class=\"text-right\">37</td><td class=\"text-right\">6.0+ mbps</td></tr>, <tr><td><a href=\"/MetroPCS\">MetroPCS</a></td><td class=\"text-right\" data-value=\"54308583\">54,308,583</td><td class=\"text-right\">5</td><td class=\"text-right\"></td></tr>, <tr><td><a href=\"/CenturyLink\">CenturyLink</a></td><td class=\"text-right\" data-value=\"48437525\">48,437,525</td><td class=\"text-right\">39</td><td class=\"text-right\"></td></tr>, <tr><td><a href=\"/Verizon-High-Speed-Internet\">Verizon High Speed Internet</a></td><td class=\"text-right\" data-value=\"47654734\">47,654,734</td><td class=\"text-right\">11</td><td class=\"text-right\"></td></tr>, <tr><td><a href=\"/Verizon-Fios\">Verizon Fios</a></td><td class=\"text-right\" data-value=\"33530459\">33,530,459</td><td class=\"text-right\">10</td><td class=\"text-right\"></td></tr>, <tr><td><a href=\"/Frontier-Communications\">Frontier Communications</a></td><td class=\"text-right\" data-value=\"29981654\">29,981,654</td><td class=\"text-right\">38</td><td class=\"text-right\"></td></tr>, <tr><td><a href=\"/Rise-Broadband\">Rise Broadband</a></td><td class=\"text-right\" data-value=\"25719363\">25,719,363</td><td class=\"text-right\">19</td><td class=\"text-right\"></td></tr>, <tr><td><a href=\"/US-Cellular\">U.S. Cellular</a></td><td class=\"text-right\" data-value=\"25083868\">25,083,868</td><td class=\"text-right\">19</td><td class=\"text-right\">6.0+ mbps</td></tr>, <tr><td><a href=\"/Cox-Communications\">Cox Communications</a></td><td class=\"text-right\" data-value=\"20881180\">20,881,180</td><td class=\"text-right\">19</td><td class=\"text-right\"></td></tr>, <tr><td><a href=\"/Crown-Castle-Fiber\">Crown Castle Fiber</a></td><td class=\"text-right\" data-value=\"19057424\">19,057,424</td><td class=\"text-right\">24</td><td class=\"text-right\"></td></tr>, <tr><td><a href=\"/Skyriver-Communications\">Skyriver Communications</a></td><td class=\"text-right\" data-value=\"18920142\">18,920,142</td><td class=\"text-right\">1</td><td class=\"text-right\"></td></tr>, <tr><td><a href=\"/X2nSat\">X2nSat</a></td><td class=\"text-right\" data-value=\"16112799\">16,112,799</td><td class=\"text-right\">7</td><td class=\"text-right\"></td></tr>, <tr><td><a href=\"/Windstream\">Windstream</a></td><td class=\"text-right\" data-value=\"15233640\">15,233,640</td><td class=\"text-right\">50</td><td class=\"text-right\"></td></tr>, <tr><td><a href=\"/Optimum-by-Cablevision\">Optimum by Cablevision</a></td><td class=\"text-right\" data-value=\"12558572\">12,558,572</td><td class=\"text-right\">4</td><td class=\"text-right\"></td></tr>, <tr><td><a href=\"/GHz-Wireless\">GHz Wireless</a></td><td class=\"text-right\" data-value=\"9699124\">9,699,124</td><td class=\"text-right\">1</td><td class=\"text-right\"></td></tr>, <tr><td><a href=\"/King-Street-Wireless\">King Street Wireless</a></td><td class=\"text-right\" data-value=\"9603129\">9,603,129</td><td class=\"text-right\">29</td><td class=\"text-right\"></td></tr>, <tr><td><a href=\"/Monmouth-Telephone-Telegraph\">Monmouth Telephone &amp; Telegraph</a></td><td class=\"text-right\" data-value=\"8569186\">8,569,186</td><td class=\"text-right\">1</td><td class=\"text-right\"></td></tr>, <tr><td><a href=\"/WOW!\">WOW!</a></td><td class=\"text-right\" data-value=\"7174627\">7,174,627</td><td class=\"text-right\">9</td><td class=\"text-right\"></td></tr>, <tr><td><a href=\"/CyberNet-Communications\">CyberNet Communications</a></td><td class=\"text-right\" data-value=\"6972035\">6,972,035</td><td class=\"text-right\">1</td><td class=\"text-right\">6.0+ mbps</td></tr>, <tr><td><a href=\"/Suddenlink-Communications\">Suddenlink Communications</a></td><td class=\"text-right\" data-value=\"6544223\">6,544,223</td><td class=\"text-right\">18</td><td class=\"text-right\"></td></tr>, <tr><td><a href=\"/Mediacom-Cable\">Mediacom Cable</a></td><td class=\"text-right\" data-value=\"6368603\">6,368,603</td><td class=\"text-right\">21</td><td class=\"text-right\"></td></tr>, <tr><td><a href=\"/BelWave-Communications\">BelWave Communications</a></td><td class=\"text-right\" data-value=\"6301425\">6,301,425</td><td class=\"text-right\">1</td><td class=\"text-right\"></td></tr>, <tr><td><a href=\"/Etheric-Networks\">Etheric Networks</a></td><td class=\"text-right\" data-value=\"5852582\">5,852,582</td><td class=\"text-right\">1</td><td class=\"text-right\"></td></tr>, <tr><td><a href=\"/Startouch\">Startouch</a></td><td class=\"text-right\" data-value=\"5698490\">5,698,490</td><td class=\"text-right\">3</td><td class=\"text-right\"></td></tr>, <tr><td><a href=\"/TDS-Telecom\">TDS Telecom</a></td><td class=\"text-right\" data-value=\"5082035\">5,082,035</td><td class=\"text-right\">26</td><td class=\"text-right\"></td></tr>, <tr><td><a href=\"/Florida-High-Speed-Internet\">Florida High Speed Internet</a></td><td class=\"text-right\" data-value=\"4979682\">4,979,682</td><td class=\"text-right\">1</td><td class=\"text-right\"></td></tr>, <tr><td><a href=\"/Consolidated-Communications\">Consolidated Communications</a></td><td class=\"text-right\" data-value=\"4577039\">4,577,039</td><td class=\"text-right\">24</td><td class=\"text-right\"></td></tr>, <tr><td><a href=\"/Level-3-Communications\">Level 3 Communications</a></td><td class=\"text-right\" data-value=\"4528195\">4,528,195</td><td class=\"text-right\">51</td><td class=\"text-right\"></td></tr>, <tr><td><a href=\"/C-Spire-Wireless\">C Spire Wireless</a></td><td class=\"text-right\" data-value=\"3993826\">3,993,826</td><td class=\"text-right\">2</td><td class=\"text-right\">0.7+ mbps</td></tr>, <tr><td><a href=\"/RCN\">RCN</a></td><td class=\"text-right\" data-value=\"3933153\">3,933,153</td><td class=\"text-right\">7</td><td class=\"text-right\"></td></tr>, <tr><td><a href=\"/Everywhere-Wireless\">Everywhere Wireless</a></td><td class=\"text-right\" data-value=\"3916796\">3,916,796</td><td class=\"text-right\">1</td><td class=\"text-right\"></td></tr>, <tr><td><a href=\"/Wi-Power\">Wi-Power</a></td><td class=\"text-right\" data-value=\"3711578\">3,711,578</td><td class=\"text-right\">5</td><td class=\"text-right\"></td></tr>, <tr><td><a href=\"/UnWired-Broadband\">UnWired Broadband</a></td><td class=\"text-right\" data-value=\"3668275\">3,668,275</td><td class=\"text-right\">1</td><td class=\"text-right\"></td></tr>, <tr><td><a href=\"/Pixius-Communications\">Pixius Communications</a></td><td class=\"text-right\" data-value=\"3327534\">3,327,534</td><td class=\"text-right\">2</td><td class=\"text-right\">100+ mbps</td></tr>, <tr><td><a href=\"/Ranch-Wireless\">Ranch Wireless</a></td><td class=\"text-right\" data-value=\"3294333\">3,294,333</td><td class=\"text-right\">1</td><td class=\"text-right\"></td></tr>, <tr><td><a href=\"/Cable-ONE\">Cable ONE</a></td><td class=\"text-right\" data-value=\"3230074\">3,230,074</td><td class=\"text-right\">19</td><td class=\"text-right\"></td></tr>, <tr><td><a href=\"/NextLink-Broadband\">NextLink</a></td><td class=\"text-right\" data-value=\"3033950\">3,033,950</td><td class=\"text-right\">1</td><td class=\"text-right\"></td></tr>, <tr><td><a href=\"/BarrierFree\">BarrierFree</a></td><td class=\"text-right\" data-value=\"3030290\">3,030,290</td><td class=\"text-right\">1</td><td class=\"text-right\"></td></tr>, <tr><td><a href=\"/Cruzio-Internet\">Cruzio Internet</a></td><td class=\"text-right\" data-value=\"3024653\">3,024,653</td><td class=\"text-right\">1</td><td class=\"text-right\"></td></tr>, <tr><td><a href=\"/Wydebeam-Broadband\">Wydebeam Broadband</a></td><td class=\"text-right\" data-value=\"3023649\">3,023,649</td><td class=\"text-right\">1</td><td class=\"text-right\"></td></tr>, <tr><td><a href=\"/E-Vergent-Wireless\">E-Vergent Wireless</a></td><td class=\"text-right\" data-value=\"3012904\">3,012,904</td><td class=\"text-right\">3</td><td class=\"text-right\"></td></tr>, <tr><td><a href=\"/WATCH-Communications\">WATCH Communications</a></td><td class=\"text-right\" data-value=\"2982272\">2,982,272</td><td class=\"text-right\">3</td><td class=\"text-right\"></td></tr>, <tr><td><a href=\"/Zing-Wireless\">Zing Wireless</a></td><td class=\"text-right\" data-value=\"2924980\">2,924,980</td><td class=\"text-right\">1</td><td class=\"text-right\">6.0+ mbps</td></tr>, <tr><td><a href=\"/Sonicnet-CA\">Sonic.net</a></td><td class=\"text-right\" data-value=\"2922667\">2,922,667</td><td class=\"text-right\">1</td><td class=\"text-right\"></td></tr>, <tr><td><a href=\"/Unite-Private-Networks\">Unite Private Networks</a></td><td class=\"text-right\" data-value=\"2886966\">2,886,966</td><td class=\"text-right\">19</td><td class=\"text-right\"></td></tr>, <tr><td><a href=\"/TierOne-Networks\">TierOne Networks</a></td><td class=\"text-right\" data-value=\"2827432\">2,827,432</td><td class=\"text-right\">1</td><td class=\"text-right\">0.7+ mbps</td></tr>, <tr><td><a href=\"/MHO-Networks\">MHO Networks</a></td><td class=\"text-right\" data-value=\"2742849\">2,742,849</td><td class=\"text-right\">1</td><td class=\"text-right\">100+ mbps</td></tr>, <tr><td><a href=\"/Metro-Wireless\">Metro Wireless</a></td><td class=\"text-right\" data-value=\"2738423\">2,738,423</td><td class=\"text-right\">1</td><td class=\"text-right\"></td></tr>, <tr><td><a href=\"/Nextera\">Nextera Communications</a></td><td class=\"text-right\" data-value=\"2589030\">2,589,030</td><td class=\"text-right\">2</td><td class=\"text-right\">6.0+ mbps</td></tr>, <tr><td><a href=\"/Wifi-West\">Wifi West</a></td><td class=\"text-right\" data-value=\"2411052\">2,411,052</td><td class=\"text-right\">1</td><td class=\"text-right\">0.7+ mbps</td></tr>, <tr><td><a href=\"/MegaPath\">MegaPath</a></td><td class=\"text-right\" data-value=\"2290751\">2,290,751</td><td class=\"text-right\">37</td><td class=\"text-right\"></td></tr>, <tr><td><a href=\"/LTD-Broadband\">LTD Broadband</a></td><td class=\"text-right\" data-value=\"2277863\">2,277,863</td><td class=\"text-right\">4</td><td class=\"text-right\"></td></tr>, <tr><td><a href=\"/Freewire-Broadband\">Freewire Broadband</a></td><td class=\"text-right\" data-value=\"2136190\">2,136,190</td><td class=\"text-right\">2</td><td class=\"text-right\"></td></tr>, <tr><td><a href=\"/Agile-Networks\">Agile Networks</a></td><td class=\"text-right\" data-value=\"2129874\">2,129,874</td><td class=\"text-right\">4</td><td class=\"text-right\">100+ mbps</td></tr>, <tr><td><a href=\"/DirectLink\">DirectLink</a></td><td class=\"text-right\" data-value=\"2125472\">2,125,472</td><td class=\"text-right\">1</td><td class=\"text-right\"></td></tr>, <tr><td><a href=\"/PenTeleData\">PenTeleData</a></td><td class=\"text-right\" data-value=\"2021477\">2,021,477</td><td class=\"text-right\">2</td><td class=\"text-right\"></td></tr>, <tr><td><a href=\"/Believe-Wireless-Broadband\">Believe Wireless Broadband</a></td><td class=\"text-right\" data-value=\"2016020\">2,016,020</td><td class=\"text-right\">1</td><td class=\"text-right\">100+ mbps</td></tr>, <tr><td><a href=\"/US-Signal-Company\">US Signal Company</a></td><td class=\"text-right\" data-value=\"2013697\">2,013,697</td><td class=\"text-right\">9</td><td class=\"text-right\"></td></tr>, <tr><td><a href=\"/Cirra-Networks\">Cirra Networks</a></td><td class=\"text-right\" data-value=\"1918117\">1,918,117</td><td class=\"text-right\">1</td><td class=\"text-right\"></td></tr>, <tr><td><a href=\"/Wave-Broadband\">Wave Broadband</a></td><td class=\"text-right\" data-value=\"1906007\">1,906,007</td><td class=\"text-right\">3</td><td class=\"text-right\"></td></tr>, <tr><td><a href=\"/lvnet\">lv.net</a></td><td class=\"text-right\" data-value=\"1878128\">1,878,128</td><td class=\"text-right\">1</td><td class=\"text-right\">0.7+ mbps</td></tr>, <tr><td><a href=\"/Utah-Broadband\">Utah Broadband</a></td><td class=\"text-right\" data-value=\"1865241\">1,865,241</td><td class=\"text-right\">1</td><td class=\"text-right\"></td></tr>, <tr><td><a href=\"/Brown-Dog-Networks\">Brown Dog Networks</a></td><td class=\"text-right\" data-value=\"1832464\">1,832,464</td><td class=\"text-right\">1</td><td class=\"text-right\">100+ mbps</td></tr>, <tr><td><a href=\"/ERF-Wireless\">ERF Wireless</a></td><td class=\"text-right\" data-value=\"1815907\">1,815,907</td><td class=\"text-right\">1</td><td class=\"text-right\"></td></tr>, <tr><td><a href=\"/On-Ramp-Indiana\">On-Ramp Indiana</a></td><td class=\"text-right\" data-value=\"1810926\">1,810,926</td><td class=\"text-right\">1</td><td class=\"text-right\">0.7+ mbps</td></tr>, <tr><td><a href=\"/Google-Fiber\">Google Fiber</a></td><td class=\"text-right\" data-value=\"1783670\">1,783,670</td><td class=\"text-right\">8</td><td class=\"text-right\"></td></tr>, <tr><td><a href=\"/Packet-Layer\">Packet Layer</a></td><td class=\"text-right\" data-value=\"1773320\">1,773,320</td><td class=\"text-right\">2</td><td class=\"text-right\"></td></tr>, <tr><td><a href=\"/airPowered\">airPowered</a></td><td class=\"text-right\" data-value=\"1663719\">1,663,719</td><td class=\"text-right\">1</td><td class=\"text-right\">6.0+ mbps</td></tr>, <tr><td><a href=\"/Air-Wans-Wireless-Broadband\">Air-Wans Wireless Broadband</a></td><td class=\"text-right\" data-value=\"1640596\">1,640,596</td><td class=\"text-right\">1</td><td class=\"text-right\"></td></tr>, <tr><td><a href=\"/EasyStreet-Online\">EasyStreet Online</a></td><td class=\"text-right\" data-value=\"1629345\">1,629,345</td><td class=\"text-right\">2</td><td class=\"text-right\"></td></tr>, <tr><td><a href=\"/Hoosier-Broadband\">Hoosier Broadband</a></td><td class=\"text-right\" data-value=\"1608106\">1,608,106</td><td class=\"text-right\">1</td><td class=\"text-right\"></td></tr>, <tr><td><a href=\"/Cellcom\">CellCom</a></td><td class=\"text-right\" data-value=\"1607399\">1,607,399</td><td class=\"text-right\">1</td><td class=\"text-right\"></td></tr>, <tr><td><a href=\"/XO-Communications\">XO Communications</a></td><td class=\"text-right\" data-value=\"1597833\">1,597,833</td><td class=\"text-right\">19</td><td class=\"text-right\"></td></tr>, <tr><td><a href=\"/Wansecurity-Wireless\">WANSecurity Wireless</a></td><td class=\"text-right\" data-value=\"1597781\">1,597,781</td><td class=\"text-right\">2</td><td class=\"text-right\"></td></tr>, <tr><td><a href=\"/Southern-California-Telephone-Co\">Southern California Telephone Company</a></td><td class=\"text-right\" data-value=\"1593991\">1,593,991</td><td class=\"text-right\">1</td><td class=\"text-right\"></td></tr>, <tr><td><a href=\"/Stealth-Communications\">Stealth Communications</a></td><td class=\"text-right\" data-value=\"1585873\">1,585,873</td><td class=\"text-right\">1</td><td class=\"text-right\"></td></tr>, <tr><td><a href=\"/MetroSpan\">MetroSpan</a></td><td class=\"text-right\" data-value=\"1557914\">1,557,914</td><td class=\"text-right\">2</td><td class=\"text-right\">0.7+ mbps</td></tr>, <tr><td><a href=\"/Phoenix-Broadband\">Phoenix Broadband</a></td><td class=\"text-right\" data-value=\"1555648\">1,555,648</td><td class=\"text-right\">1</td><td class=\"text-right\">100+ mbps</td></tr>, <tr><td><a href=\"/AreyouonlineNet\">Areyouonline.Net</a></td><td class=\"text-right\" data-value=\"1538762\">1,538,762</td><td class=\"text-right\">1</td><td class=\"text-right\">100+ mbps</td></tr>, <tr><td><a href=\"/TruCom\">TruCom</a></td><td class=\"text-right\" data-value=\"1530946\">1,530,946</td><td class=\"text-right\">1</td><td class=\"text-right\"></td></tr>, <tr><td><a href=\"/Wisper-ISP\">Wisper ISP</a></td><td class=\"text-right\" data-value=\"1498449\">1,498,449</td><td class=\"text-right\">4</td><td class=\"text-right\"></td></tr>, <tr><td><a href=\"/Mercury-Wireless\">Mercury Wireless</a></td><td class=\"text-right\" data-value=\"1494256\">1,494,256</td><td class=\"text-right\">2</td><td class=\"text-right\"></td></tr>, <tr><td><a href=\"/Internet-Free-Planet\">Internet Free Planet</a></td><td class=\"text-right\" data-value=\"1483708\">1,483,708</td><td class=\"text-right\">1</td><td class=\"text-right\">100+ mbps</td></tr>, <tr><td><a href=\"/Aerux-Broadband\">Aerux Broadband</a></td><td class=\"text-right\" data-value=\"1476008\">1,476,008</td><td class=\"text-right\">1</td><td class=\"text-right\">100+ mbps</td></tr>, <tr><td><a href=\"/ZipLink-Internetcom\">ZipLink Internet.com</a></td><td class=\"text-right\" data-value=\"1464460\">1,464,460</td><td class=\"text-right\">1</td><td class=\"text-right\"></td></tr>, <tr><td><a href=\"/Internet-Nebraska-Corporation\">Internet Nebraska Corporation</a></td><td class=\"text-right\" data-value=\"1386776\">1,386,776</td><td class=\"text-right\">1</td><td class=\"text-right\"></td></tr>, <tr><td><a href=\"/Harbor-Communications\">Harbor Communications</a></td><td class=\"text-right\" data-value=\"1371638\">1,371,638</td><td class=\"text-right\">2</td><td class=\"text-right\"></td></tr>, <tr><td><a href=\"/ProTronics-Technologies\">ProTronics Technologies</a></td><td class=\"text-right\" data-value=\"1370833\">1,370,833</td><td class=\"text-right\">1</td><td class=\"text-right\">6.0+ mbps</td></tr>, <tr><td><a href=\"/Texas-Wireless-Internet\">Texas Wireless Internet</a></td><td class=\"text-right\" data-value=\"1329342\">1,329,342</td><td class=\"text-right\">1</td><td class=\"text-right\">0.7+ mbps</td></tr>, <tr><td><a href=\"/RazzoLink\">RazzoLink</a></td><td class=\"text-right\" data-value=\"1314828\">1,314,828</td><td class=\"text-right\">1</td><td class=\"text-right\"></td></tr>, <tr><td><a href=\"/Rock-Solid-Internet-Telephone\">Rock Solid Internet &amp; Telephone</a></td><td class=\"text-right\" data-value=\"1279768\">1,279,768</td><td class=\"text-right\">1</td><td class=\"text-right\">100+ mbps</td></tr>]\n"
     ]
    }
   ],
   "source": [
    "isp_rows = isp_table.find_all('tr')\n",
    "print(isp_rows)"
   ]
  },
  {
   "cell_type": "code",
   "execution_count": 43,
   "metadata": {},
   "outputs": [
    {
     "name": "stdout",
     "output_type": "stream",
     "text": [
      "<tr><td><a href=\"/ATT-Wireless\">AT&amp;T Wireless</a></td><td class=\"text-right\" data-value=\"306461488\">306,461,488</td><td class=\"text-right\">53</td><td class=\"text-right\">100+ mbps</td></tr>\n"
     ]
    }
   ],
   "source": [
    "ex_row = isp_rows[3]\n",
    "print(ex_row)"
   ]
  },
  {
   "cell_type": "code",
   "execution_count": 44,
   "metadata": {},
   "outputs": [
    {
     "data": {
      "text/plain": [
       "[<td><a href=\"/ATT-Wireless\">AT&amp;T Wireless</a></td>,\n",
       " <td class=\"text-right\" data-value=\"306461488\">306,461,488</td>,\n",
       " <td class=\"text-right\">53</td>,\n",
       " <td class=\"text-right\">100+ mbps</td>]"
      ]
     },
     "execution_count": 44,
     "metadata": {},
     "output_type": "execute_result"
    }
   ],
   "source": [
    "cells = ex_row.find_all('td')\n",
    "cells"
   ]
  },
  {
   "cell_type": "code",
   "execution_count": 45,
   "metadata": {},
   "outputs": [
    {
     "data": {
      "text/plain": [
       "[<a href=\"/ATT-Wireless\">AT&amp;T Wireless</a>]"
      ]
     },
     "execution_count": 45,
     "metadata": {},
     "output_type": "execute_result"
    }
   ],
   "source": [
    "cells[0].contents"
   ]
  },
  {
   "cell_type": "code",
   "execution_count": 46,
   "metadata": {},
   "outputs": [
    {
     "name": "stdout",
     "output_type": "stream",
     "text": [
      "AT&T Wireless\n",
      "/ATT-Wireless\n",
      "306,461,488\n",
      "53\n",
      "100+ mbps\n"
     ]
    }
   ],
   "source": [
    "print(cells[0].contents[0].text)\n",
    "print(cells[0].contents[0].get('href'))\n",
    "print(cells[1].contents[0])\n",
    "print(cells[2].contents[0])\n",
    "print(cells[3].contents[0])"
   ]
  },
  {
   "cell_type": "code",
   "execution_count": null,
   "metadata": {},
   "outputs": [],
   "source": []
  },
  {
   "cell_type": "code",
   "execution_count": 55,
   "metadata": {},
   "outputs": [],
   "source": [
    "scraped_isp_data = []\n",
    "\n",
    "for row in isp_table.find_all('tr')[1:]:\n",
    "    cells = row.find_all('td')\n",
    "    isp_name = cells[0].contents[0].text\n",
    "    link = 'https://broadbandnow.com/' + cells[0].contents[0].get('href')\n",
    "    pop_covered = cells[1].contents[0]\n",
    "    states = cells[2].contents[0]\n",
    "    \n",
    "    scraped_isp_data.append([isp_name, link, pop_covered, states, max_speed])"
   ]
  },
  {
   "cell_type": "code",
   "execution_count": 56,
   "metadata": {},
   "outputs": [],
   "source": [
    "with open('scraped_ispdata.csv','w') as outfile:\n",
    "    writer = csv.writer(outfile)\n",
    "    writer.writerow(['isp_name','link','pop_covered','states','max_speed'])\n",
    "    writer.writerows(scraped_isp_data)"
   ]
  },
  {
   "cell_type": "code",
   "execution_count": null,
   "metadata": {},
   "outputs": [],
   "source": []
  }
 ],
 "metadata": {
  "kernelspec": {
   "display_name": "Python 3",
   "language": "python",
   "name": "python3"
  },
  "language_info": {
   "codemirror_mode": {
    "name": "ipython",
    "version": 3
   },
   "file_extension": ".py",
   "mimetype": "text/x-python",
   "name": "python",
   "nbconvert_exporter": "python",
   "pygments_lexer": "ipython3",
   "version": "3.6.4"
  }
 },
 "nbformat": 4,
 "nbformat_minor": 2
}
